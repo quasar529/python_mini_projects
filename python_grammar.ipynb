{
 "cells": [
  {
   "cell_type": "code",
   "execution_count": null,
   "metadata": {},
   "outputs": [],
   "source": [
    "print(\"hello\")"
   ]
  },
  {
   "cell_type": "code",
   "execution_count": null,
   "metadata": {},
   "outputs": [],
   "source": [
    "a=123\n",
    "b=\"hi\"\n",
    "print(str(a)+b)"
   ]
  },
  {
   "cell_type": "code",
   "execution_count": 8,
   "metadata": {},
   "outputs": [
    {
     "name": "stdout",
     "output_type": "stream",
     "text": [
      "[1, 2, 3, 4, 5] <class 'list'>\n"
     ]
    }
   ],
   "source": [
    "a_list = [1,2,3,4,5]\n",
    "print(a_list, type(a_list))"
   ]
  },
  {
   "cell_type": "markdown",
   "metadata": {},
   "source": [
    "### __init__()\n",
    "- 클래스 생성시 자동으로 동작\n",
    "  \n",
    "### self\n",
    "- 클래스 매서드 만들 때 반드시 매개변수로 사용"
   ]
  },
  {
   "cell_type": "code",
   "execution_count": 10,
   "metadata": {},
   "outputs": [
    {
     "name": "stdout",
     "output_type": "stream",
     "text": [
      "this is init\n",
      "kim, 20, coding\n"
     ]
    }
   ],
   "source": [
    "class student():\n",
    "    def __init__(self,name,age,like):\n",
    "        self.name= name\n",
    "        self.age= age\n",
    "        self.like =like\n",
    "        print(\"this is init\")\n",
    "    def info(self):\n",
    "        print(f\"{self.name}, {self.age}, {self.like}\")\n",
    "        \n",
    "tmp = student(\"kim\", \"20\",\"coding\")\n",
    "tmp.info()"
   ]
  },
  {
   "cell_type": "markdown",
   "metadata": {},
   "source": [
    "### super()\n",
    "- '상위', 상속받은 매서드 사용 시 사용."
   ]
  },
  {
   "cell_type": "code",
   "execution_count": 1,
   "metadata": {},
   "outputs": [
    {
     "name": "stdout",
     "output_type": "stream",
     "text": [
      "mom is \n",
      "tall\n",
      "smart\n",
      "dau is \n",
      "tall\n",
      "smart\n",
      "good\n"
     ]
    }
   ],
   "source": [
    "class Mother():\n",
    "    def char(self):\n",
    "        print(\"tall\")\n",
    "        print(\"smart\")\n",
    "\n",
    "class Daughter(Mother):\n",
    "    def char(self):\n",
    "        super().char()\n",
    "        print(\"good\")\n",
    "    \n",
    "mom = Mother()\n",
    "dau = Daughter()\n",
    "print(\"mom is \")\n",
    "mom.char()\n",
    "\n",
    "print(\"dau is \")\n",
    "dau.char()"
   ]
  },
  {
   "cell_type": "markdown",
   "metadata": {},
   "source": [
    "**__init()__** 이용하여 객체 생성하자마자 출력"
   ]
  },
  {
   "cell_type": "code",
   "execution_count": 3,
   "metadata": {},
   "outputs": [
    {
     "name": "stdout",
     "output_type": "stream",
     "text": [
      "mom is \n",
      "tall\n",
      "smart\n",
      "dau is \n",
      "tall\n",
      "smart\n",
      "good\n"
     ]
    }
   ],
   "source": [
    "class Mother():\n",
    "    def __init__(self):\n",
    "        print(\"tall\")\n",
    "        print(\"smart\")\n",
    "\n",
    "class Daughter(Mother):\n",
    "    def __init__(self):\n",
    "        super().__init__()\n",
    "        print(\"good\")\n",
    "print(\"mom is \")\n",
    "mom = Mother()\n",
    "print(\"dau is \")\n",
    "dau = Daughter()"
   ]
  },
  {
   "cell_type": "code",
   "execution_count": 5,
   "metadata": {},
   "outputs": [
    {
     "data": {
      "text/plain": [
       "'\\n주석 여러줄 입력할때\\n'"
      ]
     },
     "execution_count": 5,
     "metadata": {},
     "output_type": "execute_result"
    }
   ],
   "source": [
    "'''\n",
    "주석 여러줄 입력할때\n",
    "'''"
   ]
  },
  {
   "cell_type": "code",
   "execution_count": 6,
   "metadata": {},
   "outputs": [],
   "source": [
    "# 여러 줄 마우스 드래구 후\n",
    "# crtl+/ 하면 주석 처리된다"
   ]
  }
 ],
 "metadata": {
  "kernelspec": {
   "display_name": "Python 3.8.8 ('base')",
   "language": "python",
   "name": "python3"
  },
  "language_info": {
   "codemirror_mode": {
    "name": "ipython",
    "version": 3
   },
   "file_extension": ".py",
   "mimetype": "text/x-python",
   "name": "python",
   "nbconvert_exporter": "python",
   "pygments_lexer": "ipython3",
   "version": "3.8.8"
  },
  "orig_nbformat": 4,
  "vscode": {
   "interpreter": {
    "hash": "ff4f85d6e04298634172ac5d8264e7e9b556b95639fe52ebb9425c4d4cba0c9c"
   }
  }
 },
 "nbformat": 4,
 "nbformat_minor": 2
}
